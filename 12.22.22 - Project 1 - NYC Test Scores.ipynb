{
  "nbformat": 4,
  "nbformat_minor": 0,
  "metadata": {
    "colab": {
      "provenance": [],
      "collapsed_sections": [
        "CJjKFrXbTEE-"
      ]
    },
    "kernelspec": {
      "name": "python3",
      "display_name": "Python 3"
    },
    "language_info": {
      "name": "python"
    }
  },
  "cells": [
    {
      "cell_type": "markdown",
      "source": [
        "#Python Project 1 - NYC School Test Scores"
      ],
      "metadata": {
        "id": "VV3NeKNlEKCU"
      }
    },
    {
      "cell_type": "code",
      "source": [
        "import pandas as pd\n",
        "import numpy as np\n",
        "import matplotlib.pyplot as plt\n",
        "%matplotlib inline"
      ],
      "metadata": {
        "id": "XbxXEViKETD0"
      },
      "execution_count": 107,
      "outputs": []
    },
    {
      "cell_type": "code",
      "source": [
        "df = pd.read_csv('https://raw.githubusercontent.com/CunyLaguardiaDataAnalytics/datasets/master/2014-15_To_2016-17_School-_Level_NYC_Regents_Report_For_All_Variables.csv')"
      ],
      "metadata": {
        "id": "SnIS2h1NJQ6-"
      },
      "execution_count": 3,
      "outputs": []
    },
    {
      "cell_type": "markdown",
      "source": [
        "## Data Cleaning"
      ],
      "metadata": {
        "id": "bDPvY3rIOJj4"
      }
    },
    {
      "cell_type": "code",
      "source": [
        "df.shape"
      ],
      "metadata": {
        "colab": {
          "base_uri": "https://localhost:8080/"
        },
        "id": "Qi2u4q46JVIX",
        "outputId": "8411d7da-90fe-45cd-ec3d-a33b39b9a497"
      },
      "execution_count": 4,
      "outputs": [
        {
          "output_type": "execute_result",
          "data": {
            "text/plain": [
              "(212331, 15)"
            ]
          },
          "metadata": {},
          "execution_count": 4
        }
      ]
    },
    {
      "cell_type": "code",
      "source": [
        "df.columns"
      ],
      "metadata": {
        "colab": {
          "base_uri": "https://localhost:8080/"
        },
        "id": "d30L1hSlJWL1",
        "outputId": "5db99d7c-879c-4a13-ffe2-e60c3708a3ca"
      },
      "execution_count": 5,
      "outputs": [
        {
          "output_type": "execute_result",
          "data": {
            "text/plain": [
              "Index(['School DBN', 'School Name', 'School Level', 'Regents Exam', 'Year',\n",
              "       'Total Tested', 'Mean Score', 'Number Scoring Below 65',\n",
              "       'Percent Scoring Below 65', 'Number Scoring 65 or Above',\n",
              "       'Percent Scoring 65 or Above', 'Number Scoring 80 or Above',\n",
              "       'Percent Scoring 80 or Above', 'Number Scoring CR',\n",
              "       'Percent Scoring CR'],\n",
              "      dtype='object')"
            ]
          },
          "metadata": {},
          "execution_count": 5
        }
      ]
    },
    {
      "cell_type": "code",
      "source": [
        "df.info()\n",
        "# All columns except 'Year' and 'Total Tested' are str data types"
      ],
      "metadata": {
        "colab": {
          "base_uri": "https://localhost:8080/"
        },
        "id": "NRh5jeDhJXzN",
        "outputId": "e298594f-538a-47e0-d721-582749146e63"
      },
      "execution_count": 6,
      "outputs": [
        {
          "output_type": "stream",
          "name": "stdout",
          "text": [
            "<class 'pandas.core.frame.DataFrame'>\n",
            "RangeIndex: 212331 entries, 0 to 212330\n",
            "Data columns (total 15 columns):\n",
            " #   Column                       Non-Null Count   Dtype \n",
            "---  ------                       --------------   ----- \n",
            " 0   School DBN                   212331 non-null  object\n",
            " 1   School Name                  212331 non-null  object\n",
            " 2   School Level                 212331 non-null  object\n",
            " 3   Regents Exam                 212321 non-null  object\n",
            " 4   Year                         212331 non-null  int64 \n",
            " 5   Total Tested                 212331 non-null  int64 \n",
            " 6   Mean Score                   212331 non-null  object\n",
            " 7   Number Scoring Below 65      212331 non-null  object\n",
            " 8   Percent Scoring Below 65     212331 non-null  object\n",
            " 9   Number Scoring 65 or Above   212331 non-null  object\n",
            " 10  Percent Scoring 65 or Above  212331 non-null  object\n",
            " 11  Number Scoring 80 or Above   212331 non-null  object\n",
            " 12  Percent Scoring 80 or Above  212331 non-null  object\n",
            " 13  Number Scoring CR            212331 non-null  object\n",
            " 14  Percent Scoring CR           212331 non-null  object\n",
            "dtypes: int64(2), object(13)\n",
            "memory usage: 24.3+ MB\n"
          ]
        }
      ]
    },
    {
      "cell_type": "code",
      "source": [
        "# Website explaining the \"School DBN\" codes:\n",
        "# https://teachnyc.zendesk.com/hc/en-us/articles/360053601831-What-is-a-DBN-District-Borough-Number-\n",
        "# Thanks, Tim"
      ],
      "metadata": {
        "id": "0a9Ixkg2M_TY"
      },
      "execution_count": 7,
      "outputs": []
    },
    {
      "cell_type": "code",
      "source": [
        "# Rename columns\n",
        "df['Num_Fail']    = df['Number Scoring Below 65']\n",
        "df['Perc_Fail']   = df['Percent Scoring Below 65']\n",
        "\n",
        "df['Num_Pass']    = df['Number Scoring 65 or Above']\n",
        "df['Perc_Pass']   = df['Percent Scoring 65 or Above']\n",
        "\n",
        "df['Num_Excel']   = df['Number Scoring 80 or Above']\n",
        "df['Perc_Excel']  = df['Percent Scoring 80 or Above']\n",
        "\n",
        "df['Num_CR']      = df['Number Scoring CR']\n",
        "df['Perc_CR']     = df['Percent Scoring CR']"
      ],
      "metadata": {
        "id": "PjiZSXBwbtXk"
      },
      "execution_count": 8,
      "outputs": []
    },
    {
      "cell_type": "code",
      "source": [
        "# Remove duplicates after renaming\n",
        "df.drop(df.columns[7:15], axis = 1, inplace=True)"
      ],
      "metadata": {
        "id": "4Nh_qBVYs9Rw"
      },
      "execution_count": 9,
      "outputs": []
    },
    {
      "cell_type": "code",
      "source": [
        "df.head(3)"
      ],
      "metadata": {
        "colab": {
          "base_uri": "https://localhost:8080/",
          "height": 257
        },
        "id": "m3RMVBS7s2_O",
        "outputId": "1ff06c88-ee0b-4ec8-fd23-245f4fe0a0c1"
      },
      "execution_count": 10,
      "outputs": [
        {
          "output_type": "execute_result",
          "data": {
            "text/plain": [
              "  School DBN                     School Name School Level  \\\n",
              "0     01M034  P.S. 034 Franklin D. Roosevelt          K-8   \n",
              "1     01M034  P.S. 034 Franklin D. Roosevelt          K-8   \n",
              "2     01M034  P.S. 034 Franklin D. Roosevelt          K-8   \n",
              "\n",
              "          Regents Exam  Year  Total Tested Mean Score Num_Fail Perc_Fail  \\\n",
              "0  Common Core Algebra  2017             4          s        s         s   \n",
              "1   Living Environment  2015            16       77.9        1       6.3   \n",
              "2   Living Environment  2016             9         74        1      11.1   \n",
              "\n",
              "  Num_Pass Perc_Pass Num_Excel Perc_Excel Num_CR Perc_CR  \n",
              "0        s         s         s          s     na      na  \n",
              "1       15      93.8         7       43.8     na      na  \n",
              "2        8      88.9         2       22.2     na      na  "
            ],
            "text/html": [
              "\n",
              "  <div id=\"df-16c65f91-11e2-4e76-9ec6-314783b3f4e1\">\n",
              "    <div class=\"colab-df-container\">\n",
              "      <div>\n",
              "<style scoped>\n",
              "    .dataframe tbody tr th:only-of-type {\n",
              "        vertical-align: middle;\n",
              "    }\n",
              "\n",
              "    .dataframe tbody tr th {\n",
              "        vertical-align: top;\n",
              "    }\n",
              "\n",
              "    .dataframe thead th {\n",
              "        text-align: right;\n",
              "    }\n",
              "</style>\n",
              "<table border=\"1\" class=\"dataframe\">\n",
              "  <thead>\n",
              "    <tr style=\"text-align: right;\">\n",
              "      <th></th>\n",
              "      <th>School DBN</th>\n",
              "      <th>School Name</th>\n",
              "      <th>School Level</th>\n",
              "      <th>Regents Exam</th>\n",
              "      <th>Year</th>\n",
              "      <th>Total Tested</th>\n",
              "      <th>Mean Score</th>\n",
              "      <th>Num_Fail</th>\n",
              "      <th>Perc_Fail</th>\n",
              "      <th>Num_Pass</th>\n",
              "      <th>Perc_Pass</th>\n",
              "      <th>Num_Excel</th>\n",
              "      <th>Perc_Excel</th>\n",
              "      <th>Num_CR</th>\n",
              "      <th>Perc_CR</th>\n",
              "    </tr>\n",
              "  </thead>\n",
              "  <tbody>\n",
              "    <tr>\n",
              "      <th>0</th>\n",
              "      <td>01M034</td>\n",
              "      <td>P.S. 034 Franklin D. Roosevelt</td>\n",
              "      <td>K-8</td>\n",
              "      <td>Common Core Algebra</td>\n",
              "      <td>2017</td>\n",
              "      <td>4</td>\n",
              "      <td>s</td>\n",
              "      <td>s</td>\n",
              "      <td>s</td>\n",
              "      <td>s</td>\n",
              "      <td>s</td>\n",
              "      <td>s</td>\n",
              "      <td>s</td>\n",
              "      <td>na</td>\n",
              "      <td>na</td>\n",
              "    </tr>\n",
              "    <tr>\n",
              "      <th>1</th>\n",
              "      <td>01M034</td>\n",
              "      <td>P.S. 034 Franklin D. Roosevelt</td>\n",
              "      <td>K-8</td>\n",
              "      <td>Living Environment</td>\n",
              "      <td>2015</td>\n",
              "      <td>16</td>\n",
              "      <td>77.9</td>\n",
              "      <td>1</td>\n",
              "      <td>6.3</td>\n",
              "      <td>15</td>\n",
              "      <td>93.8</td>\n",
              "      <td>7</td>\n",
              "      <td>43.8</td>\n",
              "      <td>na</td>\n",
              "      <td>na</td>\n",
              "    </tr>\n",
              "    <tr>\n",
              "      <th>2</th>\n",
              "      <td>01M034</td>\n",
              "      <td>P.S. 034 Franklin D. Roosevelt</td>\n",
              "      <td>K-8</td>\n",
              "      <td>Living Environment</td>\n",
              "      <td>2016</td>\n",
              "      <td>9</td>\n",
              "      <td>74</td>\n",
              "      <td>1</td>\n",
              "      <td>11.1</td>\n",
              "      <td>8</td>\n",
              "      <td>88.9</td>\n",
              "      <td>2</td>\n",
              "      <td>22.2</td>\n",
              "      <td>na</td>\n",
              "      <td>na</td>\n",
              "    </tr>\n",
              "  </tbody>\n",
              "</table>\n",
              "</div>\n",
              "      <button class=\"colab-df-convert\" onclick=\"convertToInteractive('df-16c65f91-11e2-4e76-9ec6-314783b3f4e1')\"\n",
              "              title=\"Convert this dataframe to an interactive table.\"\n",
              "              style=\"display:none;\">\n",
              "        \n",
              "  <svg xmlns=\"http://www.w3.org/2000/svg\" height=\"24px\"viewBox=\"0 0 24 24\"\n",
              "       width=\"24px\">\n",
              "    <path d=\"M0 0h24v24H0V0z\" fill=\"none\"/>\n",
              "    <path d=\"M18.56 5.44l.94 2.06.94-2.06 2.06-.94-2.06-.94-.94-2.06-.94 2.06-2.06.94zm-11 1L8.5 8.5l.94-2.06 2.06-.94-2.06-.94L8.5 2.5l-.94 2.06-2.06.94zm10 10l.94 2.06.94-2.06 2.06-.94-2.06-.94-.94-2.06-.94 2.06-2.06.94z\"/><path d=\"M17.41 7.96l-1.37-1.37c-.4-.4-.92-.59-1.43-.59-.52 0-1.04.2-1.43.59L10.3 9.45l-7.72 7.72c-.78.78-.78 2.05 0 2.83L4 21.41c.39.39.9.59 1.41.59.51 0 1.02-.2 1.41-.59l7.78-7.78 2.81-2.81c.8-.78.8-2.07 0-2.86zM5.41 20L4 18.59l7.72-7.72 1.47 1.35L5.41 20z\"/>\n",
              "  </svg>\n",
              "      </button>\n",
              "      \n",
              "  <style>\n",
              "    .colab-df-container {\n",
              "      display:flex;\n",
              "      flex-wrap:wrap;\n",
              "      gap: 12px;\n",
              "    }\n",
              "\n",
              "    .colab-df-convert {\n",
              "      background-color: #E8F0FE;\n",
              "      border: none;\n",
              "      border-radius: 50%;\n",
              "      cursor: pointer;\n",
              "      display: none;\n",
              "      fill: #1967D2;\n",
              "      height: 32px;\n",
              "      padding: 0 0 0 0;\n",
              "      width: 32px;\n",
              "    }\n",
              "\n",
              "    .colab-df-convert:hover {\n",
              "      background-color: #E2EBFA;\n",
              "      box-shadow: 0px 1px 2px rgba(60, 64, 67, 0.3), 0px 1px 3px 1px rgba(60, 64, 67, 0.15);\n",
              "      fill: #174EA6;\n",
              "    }\n",
              "\n",
              "    [theme=dark] .colab-df-convert {\n",
              "      background-color: #3B4455;\n",
              "      fill: #D2E3FC;\n",
              "    }\n",
              "\n",
              "    [theme=dark] .colab-df-convert:hover {\n",
              "      background-color: #434B5C;\n",
              "      box-shadow: 0px 1px 3px 1px rgba(0, 0, 0, 0.15);\n",
              "      filter: drop-shadow(0px 1px 2px rgba(0, 0, 0, 0.3));\n",
              "      fill: #FFFFFF;\n",
              "    }\n",
              "  </style>\n",
              "\n",
              "      <script>\n",
              "        const buttonEl =\n",
              "          document.querySelector('#df-16c65f91-11e2-4e76-9ec6-314783b3f4e1 button.colab-df-convert');\n",
              "        buttonEl.style.display =\n",
              "          google.colab.kernel.accessAllowed ? 'block' : 'none';\n",
              "\n",
              "        async function convertToInteractive(key) {\n",
              "          const element = document.querySelector('#df-16c65f91-11e2-4e76-9ec6-314783b3f4e1');\n",
              "          const dataTable =\n",
              "            await google.colab.kernel.invokeFunction('convertToInteractive',\n",
              "                                                     [key], {});\n",
              "          if (!dataTable) return;\n",
              "\n",
              "          const docLinkHtml = 'Like what you see? Visit the ' +\n",
              "            '<a target=\"_blank\" href=https://colab.research.google.com/notebooks/data_table.ipynb>data table notebook</a>'\n",
              "            + ' to learn more about interactive tables.';\n",
              "          element.innerHTML = '';\n",
              "          dataTable['output_type'] = 'display_data';\n",
              "          await google.colab.output.renderOutput(dataTable, element);\n",
              "          const docLink = document.createElement('div');\n",
              "          docLink.innerHTML = docLinkHtml;\n",
              "          element.appendChild(docLink);\n",
              "        }\n",
              "      </script>\n",
              "    </div>\n",
              "  </div>\n",
              "  "
            ]
          },
          "metadata": {},
          "execution_count": 10
        }
      ]
    },
    {
      "cell_type": "markdown",
      "source": [
        "###Cast all numeric data into appropriate data types\n",
        "#####1. Replace null alternatives with -1\n",
        "#####2. Use the .apply method to convert columns to numeric data types\n",
        "#####3. Replace -1 values with numpy NaNs"
      ],
      "metadata": {
        "id": "tXPqPYF9NuhK"
      }
    },
    {
      "cell_type": "code",
      "source": [
        "# 1. Replace 's' and 'na' with null values\n",
        "df.replace('s', -1, inplace=True)\n",
        "df.replace('na', -1, inplace=True)"
      ],
      "metadata": {
        "id": "DXDH_AtaCjXx"
      },
      "execution_count": 11,
      "outputs": []
    },
    {
      "cell_type": "code",
      "source": [
        "# Create lists of columns with similar data types\n",
        "col_strings = ['School DBN', 'School Name', 'School Level', 'Regents Exam']\n",
        "col_floats  = ['Mean Score', 'Perc_Fail', 'Perc_Pass', 'Perc_Excel', 'Perc_CR']\n",
        "col_ints    = ['Total Tested', 'Num_Fail', 'Num_Pass', 'Num_Excel', 'Num_CR']"
      ],
      "metadata": {
        "id": "kAUICMrLMKo5"
      },
      "execution_count": 12,
      "outputs": []
    },
    {
      "cell_type": "code",
      "source": [
        "# 2. Convert to appropriate numeric data types\n",
        "df[col_floats]  = df[col_floats].apply(np.float64)\n",
        "df[col_ints]    = df[col_ints].apply(np.int64)"
      ],
      "metadata": {
        "id": "7I43IZQLYGx-"
      },
      "execution_count": 13,
      "outputs": []
    },
    {
      "cell_type": "code",
      "source": [
        "# Verify\n",
        "df.info()"
      ],
      "metadata": {
        "colab": {
          "base_uri": "https://localhost:8080/"
        },
        "id": "UoyjHkk0NZqa",
        "outputId": "138262ef-1b3e-4cdc-956b-94b58b9f6d3e"
      },
      "execution_count": 14,
      "outputs": [
        {
          "output_type": "stream",
          "name": "stdout",
          "text": [
            "<class 'pandas.core.frame.DataFrame'>\n",
            "RangeIndex: 212331 entries, 0 to 212330\n",
            "Data columns (total 15 columns):\n",
            " #   Column        Non-Null Count   Dtype  \n",
            "---  ------        --------------   -----  \n",
            " 0   School DBN    212331 non-null  object \n",
            " 1   School Name   212331 non-null  object \n",
            " 2   School Level  212331 non-null  object \n",
            " 3   Regents Exam  212321 non-null  object \n",
            " 4   Year          212331 non-null  int64  \n",
            " 5   Total Tested  212331 non-null  int64  \n",
            " 6   Mean Score    212331 non-null  float64\n",
            " 7   Num_Fail      212331 non-null  int64  \n",
            " 8   Perc_Fail     212331 non-null  float64\n",
            " 9   Num_Pass      212331 non-null  int64  \n",
            " 10  Perc_Pass     212331 non-null  float64\n",
            " 11  Num_Excel     212331 non-null  int64  \n",
            " 12  Perc_Excel    212331 non-null  float64\n",
            " 13  Num_CR        212331 non-null  int64  \n",
            " 14  Perc_CR       212331 non-null  float64\n",
            "dtypes: float64(5), int64(6), object(4)\n",
            "memory usage: 24.3+ MB\n"
          ]
        }
      ]
    },
    {
      "cell_type": "code",
      "source": [
        "# 3. Replace -1 with NaN\n",
        "df.replace(-1, np.NaN, inplace=True)"
      ],
      "metadata": {
        "id": "EJpGkoGPQcOG"
      },
      "execution_count": 15,
      "outputs": []
    },
    {
      "cell_type": "code",
      "source": [
        "# UPDATE: The above cell seems to have been successful with fewer lines of code\n",
        "# 3. Convert -1 values back to null values\n",
        "# df[col_ints] = df[col_ints].replace(-1, np.NaN)\n",
        "# df[col_floats] = df[col_floats].replace(-1, np.NaN)"
      ],
      "metadata": {
        "id": "M1FsZZn3OudN"
      },
      "execution_count": 16,
      "outputs": []
    },
    {
      "cell_type": "code",
      "source": [
        "# Verify\n",
        "df.isnull().sum()"
      ],
      "metadata": {
        "colab": {
          "base_uri": "https://localhost:8080/"
        },
        "id": "Tdeg5064MWdg",
        "outputId": "660f1579-b285-42c7-c2a3-2da4f92cf0db"
      },
      "execution_count": 17,
      "outputs": [
        {
          "output_type": "execute_result",
          "data": {
            "text/plain": [
              "School DBN           0\n",
              "School Name          0\n",
              "School Level         0\n",
              "Regents Exam        10\n",
              "Year                 0\n",
              "Total Tested         0\n",
              "Mean Score       75222\n",
              "Num_Fail         75222\n",
              "Perc_Fail        75222\n",
              "Num_Pass         75222\n",
              "Perc_Pass        75222\n",
              "Num_Excel        75222\n",
              "Perc_Excel       75222\n",
              "Num_CR          142680\n",
              "Perc_CR         142680\n",
              "dtype: int64"
            ]
          },
          "metadata": {},
          "execution_count": 17
        }
      ]
    },
    {
      "cell_type": "markdown",
      "source": [
        "##EDA\n",
        "###1. Explore data to see where comparison can be made\n",
        "###2. Isolate target school to compare to larger dataset\n",
        "###3. Change in test performance year-over-year\n",
        "###4. How does this change stack up compared to the rest of schools in Queens?"
      ],
      "metadata": {
        "id": "9_x3t2mIbow6"
      }
    },
    {
      "cell_type": "markdown",
      "source": [
        "####1. Exploration"
      ],
      "metadata": {
        "id": "ORyRuvypUbQp"
      }
    },
    {
      "cell_type": "code",
      "source": [
        "# Filter all schools in Queens\n",
        "queens = df[df['School DBN'].str.contains('Q')]"
      ],
      "metadata": {
        "id": "eE7SzdrGdclO"
      },
      "execution_count": 18,
      "outputs": []
    },
    {
      "cell_type": "code",
      "source": [
        "queens.columns"
      ],
      "metadata": {
        "colab": {
          "base_uri": "https://localhost:8080/"
        },
        "id": "46wwYtKUi4tr",
        "outputId": "3df86e2f-1225-4f9a-8720-6a9f0a6fe357"
      },
      "execution_count": 19,
      "outputs": [
        {
          "output_type": "execute_result",
          "data": {
            "text/plain": [
              "Index(['School DBN', 'School Name', 'School Level', 'Regents Exam', 'Year',\n",
              "       'Total Tested', 'Mean Score', 'Num_Fail', 'Perc_Fail', 'Num_Pass',\n",
              "       'Perc_Pass', 'Num_Excel', 'Perc_Excel', 'Num_CR', 'Perc_CR'],\n",
              "      dtype='object')"
            ]
          },
          "metadata": {},
          "execution_count": 19
        }
      ]
    },
    {
      "cell_type": "code",
      "source": [
        "queens.groupby(['Year'])['School Name'].count()"
      ],
      "metadata": {
        "colab": {
          "base_uri": "https://localhost:8080/"
        },
        "id": "1E7QUstTi8D7",
        "outputId": "5dbb7734-543a-4b94-e820-262282baf9d1"
      },
      "execution_count": 20,
      "outputs": [
        {
          "output_type": "execute_result",
          "data": {
            "text/plain": [
              "Year\n",
              "2015    13202\n",
              "2016    14225\n",
              "2017    12206\n",
              "Name: School Name, dtype: int64"
            ]
          },
          "metadata": {},
          "execution_count": 20
        }
      ]
    },
    {
      "cell_type": "code",
      "source": [
        "queens.groupby(['Regents Exam'])['School Name'].count()"
      ],
      "metadata": {
        "id": "khsDA54TioKM",
        "colab": {
          "base_uri": "https://localhost:8080/"
        },
        "outputId": "0c7b44c5-8d71-4738-80b5-21ddb9019df9"
      },
      "execution_count": 21,
      "outputs": [
        {
          "output_type": "execute_result",
          "data": {
            "text/plain": [
              "Regents Exam\n",
              "Algebra2/Trigonometry              2139\n",
              "Common Core Algebra                5574\n",
              "Common Core Algebra2               1653\n",
              "Common Core English                3219\n",
              "Common Core Geometry               2871\n",
              "English                            1775\n",
              "Geometry                           1612\n",
              "Global History and Geography       3147\n",
              "Integrated Algebra                 1821\n",
              "Living Environment                 4755\n",
              "Physical Settings/Chemistry        2474\n",
              "Physical Settings/Earth Science    3436\n",
              "Physical Settings/Physics          1534\n",
              "U.S. History and Government        3623\n",
              "Name: School Name, dtype: int64"
            ]
          },
          "metadata": {},
          "execution_count": 21
        }
      ]
    },
    {
      "cell_type": "code",
      "source": [
        "# Filtering larger dataframe in order to compare scores year-over-year\n",
        "queens_2015 = queens[queens['Year'] == 2015]\n",
        "queens_2016 = queens[queens['Year'] == 2016]\n",
        "queens_2017 = queens[queens['Year'] == 2017]"
      ],
      "metadata": {
        "id": "_EHY_xXuiURC"
      },
      "execution_count": 22,
      "outputs": []
    },
    {
      "cell_type": "code",
      "source": [
        "q15 = queens_2015.groupby(['Regents Exam'])['Mean Score'].mean()\n",
        "q16 = queens_2016.groupby(['Regents Exam'])['Mean Score'].mean()\n",
        "q17 = queens_2017.groupby(['Regents Exam'])['Mean Score'].mean()"
      ],
      "metadata": {
        "id": "fA8aFHruRXx0"
      },
      "execution_count": 23,
      "outputs": []
    },
    {
      "cell_type": "markdown",
      "source": [
        "####Abandoning this attempt. Original plan was as follows:\n",
        "- create 2 new columns comparing the mean scores of each test year-over-year\n",
        "* problem: when filtering/subsetting dataframe by year, they are no longer identical as not the same number of tests were administered each year, and thus the idices not longer match\n"
      ],
      "metadata": {
        "id": "CJjKFrXbTEE-"
      }
    },
    {
      "cell_type": "code",
      "source": [
        "# Reset index to match the rest of the dataframe subsets\n",
        "# queens_strings = queens[col_strings]"
      ],
      "metadata": {
        "id": "4IIXI16KTB4f"
      },
      "execution_count": 24,
      "outputs": []
    },
    {
      "cell_type": "code",
      "source": [
        "# Reset new data frame indices to match in order to perform mathematical operations on df series\n",
        "# queens_2015.reset_index(inplace=True)\n",
        "# queens_2016.reset_index(inplace=True)\n",
        "# queens_2017.reset_index(inplace=True)\n",
        "# queens_strings.reset_index(inplace=True)"
      ],
      "metadata": {
        "id": "3ayh3DfRnvQ9"
      },
      "execution_count": 25,
      "outputs": []
    },
    {
      "cell_type": "code",
      "source": [
        "# queens_ints_diff = queens_2016[col_ints] - queens_2015[col_ints]\n",
        "# queens_floats_diff = queens_2016[col_floats] - queens_2015[col_floats]"
      ],
      "metadata": {
        "id": "aI7CpazGk0C-"
      },
      "execution_count": 26,
      "outputs": []
    },
    {
      "cell_type": "code",
      "source": [
        "# queens_diff2016 = queens_strings + queens_ints_diff + queens_floats_diff"
      ],
      "metadata": {
        "id": "7AtMMlalpv5E"
      },
      "execution_count": 27,
      "outputs": []
    },
    {
      "cell_type": "code",
      "source": [
        "# queens_diff2016 = pd.concat([queens[col_strings], queens_ints_diff, queens_floats_diff], axis=1)"
      ],
      "metadata": {
        "id": "sFwcgQfyqst8"
      },
      "execution_count": 28,
      "outputs": []
    },
    {
      "cell_type": "markdown",
      "source": [
        "####2. Target School - Frank Sinatra\n",
        "#####GOAL: to compare the year-over-year change in average test scores for Common Core Algebra"
      ],
      "metadata": {
        "id": "rHb8xYhogdTm"
      }
    },
    {
      "cell_type": "code",
      "source": [
        "# School where my wife works (occassionally) - her FT school doesn't appear to be included in this data set\n",
        "sinatra = queens[queens['School Name'].str.contains('Sinatra')]"
      ],
      "metadata": {
        "id": "87bkm-Q0iSOO"
      },
      "execution_count": 29,
      "outputs": []
    },
    {
      "cell_type": "code",
      "source": [
        "# Check to see that we have only 1 school in current DF\n",
        "sinatra['School Name'].value_counts()"
      ],
      "metadata": {
        "id": "b9xgrCoky3sL",
        "colab": {
          "base_uri": "https://localhost:8080/"
        },
        "outputId": "e01b3d67-5efe-4889-a284-0b79f74e9653"
      },
      "execution_count": 30,
      "outputs": [
        {
          "output_type": "execute_result",
          "data": {
            "text/plain": [
              "Frank Sinatra School of the Arts High School    431\n",
              "Name: School Name, dtype: int64"
            ]
          },
          "metadata": {},
          "execution_count": 30
        }
      ]
    },
    {
      "cell_type": "markdown",
      "source": [
        "####3. Calculate change in test performance year-over-year"
      ],
      "metadata": {
        "id": "mc-DeSh_lp8A"
      }
    },
    {
      "cell_type": "code",
      "source": [
        "# Filtering larger dataframe in order to compare scores year-over-year\n",
        "sinatra_2015 = sinatra[sinatra['Year'] == 2015]\n",
        "sinatra_2016 = sinatra[sinatra['Year'] == 2016]\n",
        "sinatra_2017 = sinatra[sinatra['Year'] == 2017]"
      ],
      "metadata": {
        "id": "n28E3f4R4ZR7"
      },
      "execution_count": 31,
      "outputs": []
    },
    {
      "cell_type": "code",
      "source": [
        "s15 = sinatra_2015.groupby(['Regents Exam'])['Mean Score'].mean()\n",
        "s16 = sinatra_2016.groupby(['Regents Exam'])['Mean Score'].mean()\n",
        "s17 = sinatra_2017.groupby(['Regents Exam'])['Mean Score'].mean()\n",
        "print(s15)"
      ],
      "metadata": {
        "id": "UELjNGdUVa9D",
        "colab": {
          "base_uri": "https://localhost:8080/"
        },
        "outputId": "e18048ac-8de7-4253-90be-ecb0d24d3c0b"
      },
      "execution_count": 92,
      "outputs": [
        {
          "output_type": "stream",
          "name": "stdout",
          "text": [
            "Regents Exam\n",
            "Algebra2/Trigonometry              64.412500\n",
            "Common Core Algebra                68.490909\n",
            "Common Core Geometry               69.645455\n",
            "English                            87.150000\n",
            "Geometry                           74.772727\n",
            "Global History and Geography       79.800000\n",
            "Integrated Algebra                 61.700000\n",
            "Living Environment                 83.836364\n",
            "Physical Settings/Chemistry        65.870000\n",
            "Physical Settings/Earth Science    76.610000\n",
            "Physical Settings/Physics          74.300000\n",
            "U.S. History and Government        90.425000\n",
            "Name: Mean Score, dtype: float64\n"
          ]
        }
      ]
    },
    {
      "cell_type": "code",
      "source": [
        "sinatra_2015.groupby(['Regents Exam'])['School Name'].count()\n",
        "# Multiple of each exam given each year?"
      ],
      "metadata": {
        "colab": {
          "base_uri": "https://localhost:8080/"
        },
        "id": "G-T4LOf56CF7",
        "outputId": "ad7e0e09-82ba-47ba-a437-485c38158901"
      },
      "execution_count": 93,
      "outputs": [
        {
          "output_type": "execute_result",
          "data": {
            "text/plain": [
              "Regents Exam\n",
              "Algebra2/Trigonometry              12\n",
              "Common Core Algebra                13\n",
              "Common Core Geometry               13\n",
              "English                            12\n",
              "Geometry                           13\n",
              "Global History and Geography       12\n",
              "Integrated Algebra                  9\n",
              "Living Environment                 13\n",
              "Physical Settings/Chemistry        12\n",
              "Physical Settings/Earth Science    12\n",
              "Physical Settings/Physics          11\n",
              "U.S. History and Government        12\n",
              "Name: School Name, dtype: int64"
            ]
          },
          "metadata": {},
          "execution_count": 93
        }
      ]
    },
    {
      "cell_type": "code",
      "source": [
        "# Selecting a single exam to compare - CCA was the first that was administered each year\n",
        "s15_cca = sinatra_2015[sinatra_2015['Regents Exam'] == 'Common Core Algebra']\n",
        "s16_cca = sinatra_2016[sinatra_2016['Regents Exam'] == 'Common Core Algebra']\n",
        "s17_cca = sinatra_2017[sinatra_2017['Regents Exam'] == 'Common Core Algebra']"
      ],
      "metadata": {
        "id": "Ad-LFTdm6V7P"
      },
      "execution_count": 96,
      "outputs": []
    },
    {
      "cell_type": "code",
      "source": [
        "# Calculate the average score of all Frank Sinatra students taking the CCA exam for each year\n",
        "avg_s15_cca = s15_cca['Mean Score'].mean()\n",
        "avg_s16_cca = s16_cca['Mean Score'].mean()\n",
        "avg_s17_cca = s17_cca['Mean Score'].mean()\n",
        "print(avg_s15_cca, avg_s16_cca, avg_s17_cca)"
      ],
      "metadata": {
        "id": "s0iuiPzW9gRg",
        "colab": {
          "base_uri": "https://localhost:8080/"
        },
        "outputId": "5acd8897-9f0c-47d3-a8b1-7dd958379707"
      },
      "execution_count": 105,
      "outputs": [
        {
          "output_type": "stream",
          "name": "stdout",
          "text": [
            "68.49090909090908 73.26363636363637 73.54444444444445\n"
          ]
        }
      ]
    },
    {
      "cell_type": "code",
      "source": [
        "# Calculate the percent change year to year\n",
        "# % change = (current-previous)/previous\n",
        "change_s16 = round(((avg_s16_cca - avg_s15_cca)/avg_s15_cca), 4)\n",
        "change_s17 = round(((avg_s17_cca - avg_s16_cca)/avg_s16_cca), 4)\n",
        "print(change_s16, change_s17)"
      ],
      "metadata": {
        "colab": {
          "base_uri": "https://localhost:8080/"
        },
        "id": "szvMIDHp-10v",
        "outputId": "8feaedbd-81eb-443c-9870-f81d85e9f150"
      },
      "execution_count": 106,
      "outputs": [
        {
          "output_type": "stream",
          "name": "stdout",
          "text": [
            "0.0697 0.0038\n"
          ]
        }
      ]
    },
    {
      "cell_type": "markdown",
      "source": [
        "Generate the same figures for all Queens schools"
      ],
      "metadata": {
        "id": "qEMs-32F-foP"
      }
    },
    {
      "cell_type": "code",
      "source": [
        "q15_cca = queens_2015[queens_2015['Regents Exam'] == 'Common Core Algebra']\n",
        "q16_cca = queens_2016[queens_2016['Regents Exam'] == 'Common Core Algebra']\n",
        "q17_cca = queens_2017[queens_2017['Regents Exam'] == 'Common Core Algebra']"
      ],
      "metadata": {
        "id": "C-rtNW5fXpex"
      },
      "execution_count": 53,
      "outputs": []
    },
    {
      "cell_type": "code",
      "source": [
        "avg_q15_cca = q15_cca['Mean Score'].mean()\n",
        "avg_q16_cca = q16_cca['Mean Score'].mean()\n",
        "avg_q17_cca = q17_cca['Mean Score'].mean()"
      ],
      "metadata": {
        "id": "-x5E-ULfYN61"
      },
      "execution_count": 54,
      "outputs": []
    },
    {
      "cell_type": "code",
      "source": [
        "change_q16 = round(((avg_q16_cca - avg_q15_cca)/avg_q15_cca), 4)\n",
        "change_q17 = round(((avg_q17_cca - avg_q16_cca)/avg_q16_cca), 4)"
      ],
      "metadata": {
        "id": "2UY5yQMz-9NG"
      },
      "execution_count": 55,
      "outputs": []
    },
    {
      "cell_type": "markdown",
      "source": [
        "####4. Visualizations"
      ],
      "metadata": {
        "id": "5Rb0DacwUDVd"
      }
    },
    {
      "cell_type": "code",
      "source": [
        "years = [2015, 2016, 2017]\n",
        "\n",
        "plt.subplots(figsize = (8, 6))\n",
        "barWidth = .25\n",
        "\n",
        "# set height of bar\n",
        "sinatra_cca = [avg_s15_cca, avg_s16_cca, avg_s17_cca]\n",
        "queens_cca  = [avg_q15_cca, avg_q16_cca, avg_q17_cca]\n",
        "\n",
        "# set position of bar on X axis\n",
        "br1 = np.arange(len(sinatra_cca))\n",
        "br2 = [x + barWidth for x in br1]\n",
        "\n",
        "# Make the plot\n",
        "plt.bar(br1, sinatra_cca, color='yellow', width=barWidth, edgecolor='grey', label='Frank Sinatra HS')\n",
        "plt.bar(br2, queens_cca, color='darkblue', width=barWidth, edgecolor='grey', label='Queens')\n",
        "\n",
        "# Adding Xticks\n",
        "plt.xlabel('Year Administered', fontweight ='bold', fontsize = 15)\n",
        "plt.ylabel('Average Score', fontweight ='bold', fontsize = 15)\n",
        "plt.ylim(65,80)\n",
        "plt.xticks([r + barWidth/2 for r in range(len(sinatra_cca))], years)\n",
        "plt.title('Common Core Algebra Regents Exam')\n",
        " \n",
        "plt.legend()\n",
        "plt.show()"
      ],
      "metadata": {
        "colab": {
          "base_uri": "https://localhost:8080/",
          "height": 409
        },
        "id": "cmV5kMwyUuvY",
        "outputId": "ce198983-8579-4221-da23-10b51c771a6d"
      },
      "execution_count": 80,
      "outputs": [
        {
          "output_type": "display_data",
          "data": {
            "text/plain": [
              "<Figure size 576x432 with 1 Axes>"
            ],
            "image/png": "[encoded data removed]"
          },
          "metadata": {
            "needs_background": "light"
          }
        }
      ]
    },
    {
      "cell_type": "code",
      "source": [
        "plt.subplots(figsize = (5, 5))\n",
        "barWidth = .25\n",
        "\n",
        "# set height of bar\n",
        "sinatra_change = [change_s16, change_s17]\n",
        "queens_change  = [change_q16, change_q17]\n",
        "\n",
        "# set position of bar on X axis\n",
        "br1 = np.arange(len(sinatra_change))\n",
        "br2 = [x + barWidth for x in br1]\n",
        "\n",
        "# Make the plot\n",
        "plt.bar(br1, sinatra_change, color='orange', width=barWidth, edgecolor='grey', label='Frank Sinatra HS')\n",
        "plt.bar(br2, queens_change, color='purple', width=barWidth, edgecolor='grey', label='Queens')\n",
        "\n",
        "# Adding Xticks\n",
        "plt.xlabel('Time Frame', fontweight ='bold', fontsize = 15)\n",
        "plt.ylabel('Percent Change', fontweight ='bold', fontsize = 15)\n",
        "plt.ylim(0,.15)\n",
        "plt.xticks([r + barWidth/2 for r in range(len(sinatra_change))], ['2015 - 2016', '2016 - 2017'])\n",
        "plt.title('Year-Over-Year Change in Common Core Algebra Regents Exam')\n",
        " \n",
        "plt.legend()\n",
        "plt.show()"
      ],
      "metadata": {
        "colab": {
          "base_uri": "https://localhost:8080/",
          "height": 355
        },
        "id": "V4Z9eHuIfLGO",
        "outputId": "0482e258-0c1f-41c2-c90a-91cbf91f3006"
      },
      "execution_count": 91,
      "outputs": [
        {
          "output_type": "display_data",
          "data": {
            "text/plain": [
              "<Figure size 360x360 with 1 Axes>"
            ],
            "image/png": "[encoded data removed]"
          },
          "metadata": {
            "needs_background": "light"
          }
        }
      ]
    },
    {
      "cell_type": "markdown",
      "source": [
        "#CONCLUSION:\n",
        "\n",
        "Ultimately, the improvement of Frank Sinatra students in the 2 years following the initial data was worse than that of Queens students as a whole. We can see this fairly clearly in the second figure showing the purple bars to be greater than the orange ones.\n",
        "\n",
        "However, seeing as this is a relative comparison, we should probably look at the starting point. In fact, the test scores of Frank Sinatra students in the initial year's data show that they scored significantly better than the average Queens student. Therefore, it is expected that the improvement year-over-year wouldn't be as much as those who scored lower to begin with.\n",
        "\n",
        "I was hoping to show the teaching effectiveness by comparing the test scores year-over-year (which I understand isn't the only, or the best, metric for doing this, but I believe it was a good way to use this data set). Had I been able to perform similar comparisons/visualizations for each regents exam, I believe the project would have been more successful.\n",
        "\n",
        "#REFLECTION:\n",
        "\n",
        "I had high hopes with this project; however, I was grounded pretty quickly. \n",
        "\n",
        "My initial plan was to plot the average score and the change in average score year-over-year for EACH of the regents exams given. This proved to be so difficult because of mismatching shapes in the filtered dataframes. Some schools gave many, many instances of each exam, some schools didn't give each exam, some were missing data, etc.\n",
        "\n",
        "Converting the dataset into datatypes that could be used in mathematical operations also proved to be challenging. "
      ],
      "metadata": {
        "id": "SbEf-H8Ul4e1"
      }
    }
  ]
}